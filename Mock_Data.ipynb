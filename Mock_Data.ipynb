{
  "nbformat": 4,
  "nbformat_minor": 0,
  "metadata": {
    "colab": {
      "name": "Mock_Data.ipynb",
      "provenance": [],
      "collapsed_sections": [],
      "authorship_tag": "ABX9TyO4bocO5HqHuLUZNkpV0qEa",
      "include_colab_link": true
    },
    "kernelspec": {
      "name": "python3",
      "display_name": "Python 3"
    }
  },
  "cells": [
    {
      "cell_type": "markdown",
      "metadata": {
        "id": "view-in-github",
        "colab_type": "text"
      },
      "source": [
        "<a href=\"https://colab.research.google.com/github/stanley7/Machine-Learning/blob/master/Mock_Data.ipynb\" target=\"_parent\"><img src=\"https://colab.research.google.com/assets/colab-badge.svg\" alt=\"Open In Colab\"/></a>"
      ]
    },
    {
      "cell_type": "code",
      "metadata": {
        "colab": {
          "base_uri": "https://localhost:8080/"
        },
        "id": "bGB-QUeBkiYg",
        "outputId": "3f71a4cf-fcb9-4418-c716-1a9b26553031"
      },
      "source": [
        "!pip install faker"
      ],
      "execution_count": 164,
      "outputs": [
        {
          "output_type": "stream",
          "text": [
            "Requirement already satisfied: faker in /usr/local/lib/python3.6/dist-packages (5.8.0)\n",
            "Requirement already satisfied: text-unidecode==1.3 in /usr/local/lib/python3.6/dist-packages (from faker) (1.3)\n",
            "Requirement already satisfied: python-dateutil>=2.4 in /usr/local/lib/python3.6/dist-packages (from faker) (2.8.1)\n",
            "Requirement already satisfied: six>=1.5 in /usr/local/lib/python3.6/dist-packages (from python-dateutil>=2.4->faker) (1.15.0)\n"
          ],
          "name": "stdout"
        }
      ]
    },
    {
      "cell_type": "code",
      "metadata": {
        "id": "-B8O1yqpD44H"
      },
      "source": [
        "import pandas as pd\r\n",
        "import numpy as np\r\n",
        "import datetime\r\n",
        "import random\r\n",
        "from faker import Faker "
      ],
      "execution_count": 165,
      "outputs": []
    },
    {
      "cell_type": "code",
      "metadata": {
        "id": "v7ygnIeIa5wG"
      },
      "source": [
        "# Column names of the dataset\r\n",
        "\r\n",
        "column_names = ['Name', 'Phone','Email', 'Date Of Birth', 'Gender', 'Zipcode', 'Country', 'Prior Diving Experience','Languages I Can Speak',\r\n",
        "'Languages I Can Read', 'Do you hold an Indian Passport?', 'If you hold an Indian Passport, enter the expiry date', 'Blood Group',\r\n",
        "'Caregiver Required', 'Do you take prescription medication?', 'Are you currently receiving medical care', 'Are you, or could you be, Pregnant',\r\n",
        "'Do you currently smoke tobacco', 'Do you have high cholesterol','Asthma or Wheezing with exercise?','Seizure disorder epilepsy or convulsions',\r\n",
        "'Severe hay fever or allergy', 'Pneumothorax, collapsed lung', 'Lung disease', 'Chest disease or chest surgery', 'Blackouts or fainting (loss of consciousness)',\r\n",
        "'Diabetes mellitus even if controlled by diet', 'Recurring Ear or Sinus problems', 'Sinus surgery', 'Ear surgery loss of hearing or balance', \r\n",
        "'Recurring Headaches or Migraines', 'Decompression sickness or diving accident', 'Hernia', 'Behavioral health, mental or psychological', \r\n",
        "'Heart disease', 'Angina, Heart or Blood Vessel surgery', 'Family history of heart attack or stroke', 'High blood pressure', \r\n",
        "'High blood pressure medication', 'Bleeding or other blood disorders', 'Ulcers or ulcer surgery', 'Recurring Back problems', 'Back or spinal surgery',\r\n",
        "'Frequent Motion sickness', 'Head injury with loss of consciousness', 'Drug or alcohol treatment in past 5 years', 'Tracheotomy', 'Colostomy or ileostomy', \r\n",
        "'Medically treated for dysentery or dehydration']\r\n",
        "\r\n",
        "df = pd.DataFrame(columns=column_names)"
      ],
      "execution_count": 166,
      "outputs": []
    },
    {
      "cell_type": "code",
      "metadata": {
        "id": "TkGtkiguILcP"
      },
      "source": [
        "# Function to generate a random date between the given range of dates\r\n",
        "\r\n",
        "def dob(start_date, end_date): \r\n",
        "\r\n",
        "  time_between_dates = end_date - start_date\r\n",
        "  days_between_dates = time_between_dates.days\r\n",
        "  random_number_of_days = random.randrange(days_between_dates)\r\n",
        "  random_date = start_date + datetime.timedelta(days=random_number_of_days)\r\n",
        "  \r\n",
        "  return random_date"
      ],
      "execution_count": 167,
      "outputs": []
    },
    {
      "cell_type": "code",
      "metadata": {
        "id": "Gq5T0oyHak2m"
      },
      "source": [
        "fake = Faker()\r\n",
        "\r\n",
        "# List of names\r\n",
        "Names = [ ['Liam', 'Male'],\r\n",
        "          ['Olivia', 'Female'],\r\n",
        "          ['Noah','Male'],\r\n",
        "          ['Jessica', 'Female'],\r\n",
        "          ['George', 'Male'],\r\n",
        "          ['Katy', 'Female'],\r\n",
        "          ['Oliver', 'Male'], \r\n",
        "          ['Remona', 'Female'],\r\n",
        "          ['William', 'Male'],\r\n",
        "          ['Glory', 'Female'],\r\n",
        "          ['Emma', 'Female'],\r\n",
        "          ['James', 'Male'],\r\n",
        "          ['Ava', 'Female'],\r\n",
        "          ['Joe', 'Male'],\r\n",
        "          ['Alexander','Male'] ]\r\n",
        "\r\n",
        "for i in range(3000):\r\n",
        "\r\n",
        "  # Randomly selects a value form Names list\r\n",
        "  val = Names[random.randint(0,14)]\r\n",
        "  Name = val[0] \r\n",
        "\r\n",
        "  # Generates a fake phone number\r\n",
        "  Phone = fake.phone_number() \r\n",
        "\r\n",
        "  random_number = random.randint(1,999) \r\n",
        "  Email = Name.strip().lower().replace(' ','')+str(random_number)+random.choice(['@outlook.com', '@gmail.com'])\r\n",
        "\r\n",
        "  # dob function generates a random date between the given range of dates\r\n",
        "  DOB = dob(datetime.date(1980, 1, 1), datetime.date(2000, 12, 1)) \r\n",
        "\r\n",
        "  Gender = val[1] \r\n",
        "  Zipcode = random.randint(50000, 59999)\r\n",
        "  Country = fake.country() \r\n",
        "  Prior_Diving_Experience = random.choice(['Yes', 'No'])\r\n",
        "\r\n",
        "  # Randomly selects any 3 langauges from the languages list\r\n",
        "  languages = ['English', 'Hindi', 'French', 'Spanish', 'Tamil']\r\n",
        "  Languages_I_Can_Speak = ', '.join(random.choices(languages, weights=None, k=3)) \r\n",
        "  Languages_I_Can_Read = Languages_I_Can_Speak \r\n",
        "\r\n",
        "  Do_you_hold_an_Indian_Passport = random.choice(['Yes', 'No'])\r\n",
        "\r\n",
        "  # dob function generates a random date between the given range of dates\r\n",
        "  Passport_expiry_date = dob(datetime.date(2021, 1, 1), datetime.date(2025, 12, 1))\r\n",
        "  \r\n",
        "  # Randomly selects a blood group type based on the weights provided\r\n",
        "  blood_group = ''.join(random.choices(['O+','A+','B+','AB+','O-','A-','B-','AB-'], \r\n",
        "                            weights=[27.85,20.8,38.14,8.93,1.43,0.57,1.79,0.49],\r\n",
        "                            k=1))  \r\n",
        "  Blood_Group = blood_group\r\n",
        "  \r\n",
        "  Caregiver_Required = random.choice(['Yes', 'No'])\r\n",
        "  Do_you_take_prescription_medication = random.choice(['Yes', 'No'])\r\n",
        "  Are_you_currently_receiving_medical_care = random.choice(['Yes', 'No'])\r\n",
        "  Are_you_or_could_you_be_Pregnant = 'Yes' if val[1]=='Female' else 'No'\r\n",
        "  Do_you_currently_smoke_tobacco = random.choice(['Yes', 'No'])\r\n",
        "  Do_you_have_high_cholesterol = random.choice(['Yes', 'No'])\r\n",
        "  Asthma_or_Wheezing_with_exercise = random.choice(['Yes', 'No'])\r\n",
        "  Seizure_disorder_epilepsy_or_convulsions = random.choice(['Yes', 'No'])\r\n",
        "  Frequent_colds_sinusitis_bronchitis = random.choice(['Yes', 'No'])\r\n",
        "  Severe_hay_fever_or_allergy = random.choice(['Yes', 'No'])\r\n",
        "  Pneumothorax_collapsed_lung = random.choice(['Yes', 'No'])\r\n",
        "  Lung_disease = random.choice(['Yes', 'No'])\r\n",
        "  Chest_disease_or_chest_surgery = random.choice(['Yes', 'No'])\r\n",
        "  Blackouts_or_fainting = random.choice(['Yes', 'No'])\r\n",
        "  Diabetes_mellitus_even_if_controlled_by_diet = random.choice(['Yes', 'No'])\r\n",
        "  Recurring_Ear_or_Sinus_problems = random.choice(['Yes', 'No'])\r\n",
        "  Sinus_surgery = random.choice(['Yes', 'No'])\r\n",
        "  Ear_surgery_loss_of_hearing_or_balance = random.choice(['Yes', 'No'])\r\n",
        "  Recurring_Headaches_or_Migraines = random.choice(['Yes', 'No'])\r\n",
        "  Decompression_sickness_or_diving_accident = random.choice(['Yes', 'No'])\r\n",
        "  Hernia = random.choice(['Yes', 'No'])\r\n",
        "  Behavioral_health_mental_or_psychological = random.choice(['Yes', 'No'])\r\n",
        "  Heart_disease = random.choice(['Yes', 'No'])\r\n",
        "  Angina_Heart_or_Blood_Vessel_surgery = random.choice(['Yes', 'No'])\r\n",
        "  Family_history_of_heart_attack_or_stroke = random.choice(['Yes', 'No'])\r\n",
        "  High_blood_pressure = random.choice(['Yes', 'No'])\r\n",
        "  High_blood_pressure_medication = random.choice(['Yes', 'No'])\r\n",
        "  Bleeding_or_other_blood_disorders = random.choice(['Yes', 'No'])\r\n",
        "  Ulcers_or_ulcer_surgery = random.choice(['Yes', 'No'])\r\n",
        "  Recurring_Back_problems = random.choice(['Yes', 'No'])\r\n",
        "  Back_or_spinal_surgery = random.choice(['Yes', 'No'])\r\n",
        "  Frequent_Motion_sickness = random.choice(['Yes', 'No'])\r\n",
        "  Head_injury_with_loss_of_consciousness = random.choice(['Yes', 'No'])\r\n",
        "  Drug_or_alcohol_treatment_in_past_5_years = random.choice(['Yes', 'No'])\r\n",
        "  Tracheotomy = random.choice(['Yes', 'No'])\r\n",
        "  Colostomy_or_ileostomy =  random.choice(['Yes', 'No'])\r\n",
        "  Medically_treated_for_dysentery_or_dehydration = random.choice(['Yes', 'No'])\r\n",
        "\r\n",
        "  # Accessing a group of rows and columns by label\r\n",
        "  df.loc[i] = [Name, Phone, Email, DOB, Gender, Zipcode, Country,Prior_Diving_Experience,Languages_I_Can_Speak,Languages_I_Can_Read,Do_you_hold_an_Indian_Passport,Passport_expiry_date ,\r\n",
        "  Blood_Group, Caregiver_Required, Do_you_take_prescription_medication, Are_you_currently_receiving_medical_care, Are_you_or_could_you_be_Pregnant,\r\n",
        "  Do_you_currently_smoke_tobacco, Do_you_have_high_cholesterol, Asthma_or_Wheezing_with_exercise, Seizure_disorder_epilepsy_or_convulsions, \r\n",
        "  Severe_hay_fever_or_allergy, Pneumothorax_collapsed_lung, Lung_disease, Chest_disease_or_chest_surgery, Blackouts_or_fainting, \r\n",
        "  Diabetes_mellitus_even_if_controlled_by_diet, Recurring_Ear_or_Sinus_problems, Sinus_surgery, Ear_surgery_loss_of_hearing_or_balance,\r\n",
        "  Recurring_Headaches_or_Migraines, Decompression_sickness_or_diving_accident, Hernia, Behavioral_health_mental_or_psychological, \r\n",
        "  Heart_disease, Angina_Heart_or_Blood_Vessel_surgery, Family_history_of_heart_attack_or_stroke, High_blood_pressure, High_blood_pressure_medication,\r\n",
        "  Bleeding_or_other_blood_disorders, Ulcers_or_ulcer_surgery,Recurring_Back_problems,Back_or_spinal_surgery, Frequent_Motion_sickness, \r\n",
        "  Head_injury_with_loss_of_consciousness, Drug_or_alcohol_treatment_in_past_5_years,Tracheotomy,Colostomy_or_ileostomy, Medically_treated_for_dysentery_or_dehydration]"
      ],
      "execution_count": 168,
      "outputs": []
    },
    {
      "cell_type": "code",
      "metadata": {
        "id": "wkxkAhr4oBlZ"
      },
      "source": [
        "# Saving the dataframe as a CSV\r\n",
        "df.to_csv('Personal_Details.csv') "
      ],
      "execution_count": 169,
      "outputs": []
    },
    {
      "cell_type": "code",
      "metadata": {
        "id": "NbdyvU9eoe5e"
      },
      "source": [
        ""
      ],
      "execution_count": 169,
      "outputs": []
    },
    {
      "cell_type": "code",
      "metadata": {
        "id": "5gbEIsNdPF0u"
      },
      "source": [
        ""
      ],
      "execution_count": 169,
      "outputs": []
    },
    {
      "cell_type": "code",
      "metadata": {
        "id": "ZryhHFXJG4jT"
      },
      "source": [
        ""
      ],
      "execution_count": 169,
      "outputs": []
    }
  ]
}