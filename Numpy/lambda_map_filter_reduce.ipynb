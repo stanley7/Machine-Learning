{
  "nbformat": 4,
  "nbformat_minor": 0,
  "metadata": {
    "colab": {
      "name": "lambda_map_filter_reduce.ipynb",
      "provenance": [],
      "collapsed_sections": [],
      "authorship_tag": "ABX9TyP6IT72GSpS6i2GkugEba6V",
      "include_colab_link": true
    },
    "kernelspec": {
      "name": "python3",
      "display_name": "Python 3"
    }
  },
  "cells": [
    {
      "cell_type": "markdown",
      "metadata": {
        "id": "view-in-github",
        "colab_type": "text"
      },
      "source": [
        "<a href=\"https://colab.research.google.com/github/stanley7/Machine-Learning/blob/master/Numpy/lambda_map_filter_reduce.ipynb\" target=\"_parent\"><img src=\"https://colab.research.google.com/assets/colab-badge.svg\" alt=\"Open In Colab\"/></a>"
      ]
    },
    {
      "cell_type": "code",
      "metadata": {
        "id": "TP7jOuiILR1p",
        "colab_type": "code",
        "colab": {}
      },
      "source": [
        "# Lambda function\n",
        "\n",
        "#without lambda function\n",
        "def fun(x):\n",
        "  return x * 2\n",
        "\n",
        "# With lambda function\n",
        "y = lambda x: x * 2 \n",
        "print(y(2))"
      ],
      "execution_count": null,
      "outputs": []
    },
    {
      "cell_type": "code",
      "metadata": {
        "id": "mpGNd-JQsnx8",
        "colab_type": "code",
        "colab": {}
      },
      "source": [
        "y = lambda x,y: x + y\n",
        "print(y(2,3))"
      ],
      "execution_count": null,
      "outputs": []
    },
    {
      "cell_type": "code",
      "metadata": {
        "id": "WG7Z0A6TsvDe",
        "colab_type": "code",
        "colab": {
          "base_uri": "https://localhost:8080/",
          "height": 34
        },
        "outputId": "072c2ea6-ef04-48dd-c2dc-57c912d4a769"
      },
      "source": [
        "z = lambda x,y: x > y\n",
        "print(z(6,5))"
      ],
      "execution_count": null,
      "outputs": [
        {
          "output_type": "stream",
          "text": [
            "True\n"
          ],
          "name": "stdout"
        }
      ]
    },
    {
      "cell_type": "code",
      "metadata": {
        "id": "UwcNgIt5s2cS",
        "colab_type": "code",
        "colab": {}
      },
      "source": [
        "a = lambda x,y,z: x if x>y and x>z else y if y>x and y>z else z\n",
        "print(a(8,1,9))\n",
        "print(a(1,2,3))\n",
        "print(a(0,0,0))\n",
        "print(a(1,2,1))"
      ],
      "execution_count": null,
      "outputs": []
    },
    {
      "cell_type": "code",
      "metadata": {
        "id": "zCwxRRlltQtr",
        "colab_type": "code",
        "colab": {
          "base_uri": "https://localhost:8080/",
          "height": 52
        },
        "outputId": "f9f14f1e-3cb2-4e9e-8e8f-63d7a0ee915d"
      },
      "source": [
        "# Map\n",
        "\n",
        "print(list(map(int, [1.1, 2.2,3.3])))\n",
        "\n",
        "print(list(map(lambda x: x*2, [1,2,3,4,5,6,7,8,9])))"
      ],
      "execution_count": null,
      "outputs": [
        {
          "output_type": "stream",
          "text": [
            "[1, 2, 3]\n",
            "[2, 4, 6, 8, 10, 12, 14, 16, 18]\n"
          ],
          "name": "stdout"
        }
      ]
    },
    {
      "cell_type": "code",
      "metadata": {
        "id": "ZO7NuK4QwT7e",
        "colab_type": "code",
        "colab": {
          "base_uri": "https://localhost:8080/",
          "height": 34
        },
        "outputId": "20768b16-26fd-4ab6-ceac-dd945afe9f78"
      },
      "source": [
        "# Lambda and Map\n",
        "\n",
        "x = lambda y: y**2\n",
        "print(list(map(x, [1,2,3,4,5,6,7,8,9])))"
      ],
      "execution_count": null,
      "outputs": [
        {
          "output_type": "stream",
          "text": [
            "[1, 4, 9, 16, 25, 36, 49, 64, 81]\n"
          ],
          "name": "stdout"
        }
      ]
    },
    {
      "cell_type": "code",
      "metadata": {
        "id": "KwHq758MzhI4",
        "colab_type": "code",
        "colab": {
          "base_uri": "https://localhost:8080/",
          "height": 34
        },
        "outputId": "492330ad-e016-4151-f52b-c646a26cc71e"
      },
      "source": [
        "def fibonacci(n):\n",
        "  if n == 0:\n",
        "    return 0\n",
        "  if n==1:\n",
        "    return 1\n",
        "  if n>1:\n",
        "     return fibonacci(n-1) + fibonacci(n-2) \n",
        "fibonacci(7)"
      ],
      "execution_count": null,
      "outputs": [
        {
          "output_type": "execute_result",
          "data": {
            "text/plain": [
              "13"
            ]
          },
          "metadata": {
            "tags": []
          },
          "execution_count": 47
        }
      ]
    },
    {
      "cell_type": "code",
      "metadata": {
        "id": "cmaCSknd-KKL",
        "colab_type": "code",
        "colab": {
          "base_uri": "https://localhost:8080/",
          "height": 34
        },
        "outputId": "6497ce36-0177-497d-e4bd-33dad49c2e2f"
      },
      "source": [
        "l = [0,1]\n",
        "for i in range(2,7):\n",
        "  l.append((l[i-2] + l[i-1]))\n",
        "print(l)"
      ],
      "execution_count": null,
      "outputs": [
        {
          "output_type": "stream",
          "text": [
            "[0, 1, 1, 2, 3, 5, 8]\n"
          ],
          "name": "stdout"
        }
      ]
    },
    {
      "cell_type": "code",
      "metadata": {
        "id": "YqbYbgUCERDL",
        "colab_type": "code",
        "colab": {}
      },
      "source": [
        "print(reduce(lambda x, y: x,y ))"
      ],
      "execution_count": null,
      "outputs": []
    },
    {
      "cell_type": "code",
      "metadata": {
        "id": "N11ZgSo5uaD3",
        "colab_type": "code",
        "colab": {
          "base_uri": "https://localhost:8080/",
          "height": 34
        },
        "outputId": "1af17970-2ad1-424c-ab5a-305debac92e4"
      },
      "source": [
        "def c(l):\n",
        "  if len(l)==0:\n",
        "    return []\n",
        "  else:\n",
        "    return len(l)\n",
        "c([1])\n"
      ],
      "execution_count": null,
      "outputs": [
        {
          "output_type": "execute_result",
          "data": {
            "text/plain": [
              "1"
            ]
          },
          "metadata": {
            "tags": []
          },
          "execution_count": 5
        }
      ]
    },
    {
      "cell_type": "code",
      "metadata": {
        "id": "DS4koNCJwqdE",
        "colab_type": "code",
        "colab": {
          "base_uri": "https://localhost:8080/",
          "height": 34
        },
        "outputId": "a6e213ea-e5ac-40c2-bd21-23426455a3ab"
      },
      "source": [
        "def fun(s):          \n",
        "    m = []\n",
        "    try:\n",
        "        for i in s.split():        \n",
        "            if len(i) != 0:\n",
        "                j = i.split('@')            \n",
        "                ext = len(j[1].split('.')[1])                \n",
        "   \n",
        "                if (j[0].replace(' ', '').replace('-', '').replace('_', '')).isalnum() == True and ext>1 and ext<=3 and ((j[1].split('.')[0]).replace(' ', '').replace('-', '').replace('_', '')).isalnum()== True:\n",
        "\n",
        "                    m.append(i)                \n",
        "    except:\n",
        "        pass\n",
        "\n",
        "    if len(m)==0:\n",
        "        return[]\n",
        "    else:\n",
        "        return sorted(m)\n",
        "\n",
        "l = ['its@gmail.com1',\n",
        "'mike13445@yahoomail9.server',\n",
        "'rase23@ha_ch.com',\n",
        "'daniyal@gmail.coma',\n",
        "'thatisit@thatisit']\n",
        "m = 'rase23@ha_ch.com'\n",
        "\n",
        "print(fun(m))"
      ],
      "execution_count": null,
      "outputs": [
        {
          "output_type": "stream",
          "text": [
            "['rase23@ha_ch.com']\n"
          ],
          "name": "stdout"
        }
      ]
    },
    {
      "cell_type": "code",
      "metadata": {
        "id": "5Q8-jONwOvM2",
        "colab_type": "code",
        "colab": {
          "base_uri": "https://localhost:8080/",
          "height": 52
        },
        "outputId": "32c89019-f936-411f-cb2c-0bb6223b3103"
      },
      "source": [
        "n = 5\n",
        "answer = 0\n",
        "count = 0\n",
        "while n > 1:\n",
        "  answer += 1\n",
        "  n-=1\n",
        "  count += 1\n",
        "print(answer)\n",
        "print(count)\n"
      ],
      "execution_count": null,
      "outputs": [
        {
          "output_type": "stream",
          "text": [
            "4\n",
            "4\n"
          ],
          "name": "stdout"
        }
      ]
    }
  ]
}