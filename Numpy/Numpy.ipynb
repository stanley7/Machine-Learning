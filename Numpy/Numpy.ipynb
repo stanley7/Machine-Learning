{
  "nbformat": 4,
  "nbformat_minor": 0,
  "metadata": {
    "colab": {
      "name": "Numpy_.ipynb",
      "provenance": [],
      "collapsed_sections": [],
      "authorship_tag": "ABX9TyPHhpooUs1Kg8KApi9yF1q7",
      "include_colab_link": true
    },
    "kernelspec": {
      "name": "python3",
      "display_name": "Python 3"
    }
  },
  "cells": [
    {
      "cell_type": "markdown",
      "metadata": {
        "id": "view-in-github",
        "colab_type": "text"
      },
      "source": [
        "<a href=\"https://colab.research.google.com/github/stanley7/Machine-Learning/blob/master/Numpy/Numpy.ipynb\" target=\"_parent\"><img src=\"https://colab.research.google.com/assets/colab-badge.svg\" alt=\"Open In Colab\"/></a>"
      ]
    },
    {
      "cell_type": "code",
      "metadata": {
        "id": "AqZw5BmzD7pP",
        "colab_type": "code",
        "colab": {}
      },
      "source": [
        "# Numpy : Numeric Computing Library\n",
        "# Numpy is the core library for scientific computing in Python. It provides a high-performance multidimensional array object\n",
        "# Numpy array can have only one datatype inside an array"
      ],
      "execution_count": null,
      "outputs": []
    },
    {
      "cell_type": "code",
      "metadata": {
        "id": "LNZM9aEcwzcg",
        "colab_type": "code",
        "colab": {}
      },
      "source": [
        "# # Available Data types\n",
        "# int, float, bool, strings\n",
        "\n",
        "# np.int16 Integer (-32768 to 32767)\n",
        "# np.int32 Integer (-2147483648 to 2147483647)\n",
        "# np.int64 Integer (-9223372036854775808 to 9223372036854775807)\n",
        "\n",
        "# Numpy overflow\n",
        "import numpy as np\n",
        "num_a = np.array([32765, 32766, 32767, 32768], dtype=np.int16)\n",
        "print(num_a) # Output [ 32765  32766  32767 -32768]\n",
        "# 32768 gets changes to -32768 because we have overflowed the datatype\n",
        "\n",
        "# unsigned datatypes\n",
        "# unsigned datatpes takes only positive values\n",
        "# np.uint16 Unsigned integer (0 to 65535)\n",
        "# np.uint32 Unsigned integer (0 to 4294967295)\n",
        "# np.uint64 Unsigned integer (0 to 18446744073709551615)\n",
        "\n",
        "# Example: If we give a negetive value we will get an unexpected output\n",
        "num_b = np.array([-1,0,1], dtype=np.uint16)\n",
        "print(num_b) # OP [65535     0     1]\n",
        "# -1 gets changed to 65535\n",
        "\n",
        "a = np.array([1,1.1,True, 'Hello'])\n",
        "# Since Numpy array can have only one datatype, it automatically converts every element to String"
      ],
      "execution_count": null,
      "outputs": []
    },
    {
      "cell_type": "code",
      "metadata": {
        "id": "WWLbAq4PwzXg",
        "colab_type": "code",
        "colab": {}
      },
      "source": [
        "# Difference between List and Numpy\n",
        "\n",
        "# List consumes more memory compared to Numpy \n",
        "# Operations in List are slower compared to Numpy\n",
        "# We can enhance the performance of the list using Numpy array\n",
        "# List can contain multiple datatypes but Numpy array can have only one datatype"
      ],
      "execution_count": null,
      "outputs": []
    },
    {
      "cell_type": "code",
      "metadata": {
        "id": "xZ_EunyZwvwV",
        "colab_type": "code",
        "colab": {}
      },
      "source": [
        "# Numpy array Shape\n",
        "\n",
        "# Gives a tuple that specifies the number of rows and columns\n",
        "a = np.array([1,1.1,True, 'Hello'])\n",
        "print(a.shape) # (1,4) \n",
        "\n",
        "# Numpy array of shape (5,2)\n",
        "b = np.array([[1,2], [3,4], [5,6],[7,8], [9,10]])\n",
        "print(b.shape) # (5,2)"
      ],
      "execution_count": null,
      "outputs": []
    },
    {
      "cell_type": "code",
      "metadata": {
        "id": "JIajV4lKVsG_",
        "colab_type": "code",
        "colab": {}
      },
      "source": [
        "# To get the dimension of an array ndim\n",
        "\n",
        "a = np.array([1,1.1,True, 'Hello'])\n",
        "print(a.ndim) # 1D\n",
        "\n",
        "a = [1,2,3,4,5]\n",
        "b = [6,7,8,9,10]\n",
        "c = [11,12,13,14,15]\n",
        "d = [16,17,18,19,20]\n",
        "my_arr = np.array([a,b,c,d])\n",
        "print(my_arr.ndim) # 2D\n",
        "\n",
        "arr_3d = np.array([[[ 1, 2, 3], [4, 5, 6]], [[7, 8, 9], [10, 11, 12]]])\n",
        "print(arr_3d.ndim) # 3D"
      ],
      "execution_count": null,
      "outputs": []
    },
    {
      "cell_type": "code",
      "metadata": {
        "id": "jZv4wL1jDJi9",
        "colab_type": "code",
        "colab": {}
      },
      "source": [
        "# Numpy default values\n",
        "\n",
        "# Overriding the default datatypes\n",
        "# To change the datatype of the elements inside an array\n",
        "a = [[1,2,3], [4,5,6]]\n",
        "arr = np.array(a, dtype=float)\n",
        "# Converts all the elements inside an array to float\n",
        "\n",
        "# Numpy Zeros, Ones and Full methods\n",
        "print(np.zeros((3,3)))\n",
        "print(np.ones((3,3))) \n",
        "print(np.full((3,3), 5)) # Gives a 3x3 matrix which consits of only element 5\n",
        "print(np.random.random((3,3))) # Gives a 3x3 matrix of random numbers between 0 and 1"
      ],
      "execution_count": null,
      "outputs": []
    },
    {
      "cell_type": "code",
      "metadata": {
        "id": "C8mOCGVpqPVl",
        "colab_type": "code",
        "colab": {}
      },
      "source": [
        "# Indexing\n",
        "\n",
        "a = [1,2,3,4,5]\n",
        "b = [6,7,8,9,10]\n",
        "c = [11,12,13,14,15]\n",
        "d = [16,17,18,19,20]\n",
        "my_arr = np.array([a,b,c,d])\n",
        "\n",
        "# Output third and fourth elements of all rows\n",
        "print(my_arr[:, 2:4])\n",
        "\n",
        "# Output third and fifth element of all rows\n",
        "print(my_arr[:, 2::2])\n",
        "\n",
        "# Output the last row\n",
        "print(my_arr[-1])  # [16 17 18 19 20]\n",
        " \n",
        "# Out the last element of last row\n",
        "print(my_arr[-1, -1]) # 20\n",
        "\n",
        "# Output the third row thrid element\n",
        "print(my_arr[2,2]) # 13\n",
        "\n",
        "# Output last 2 rows\n",
        "print(my_arr[-2:])\n",
        "\n",
        "# Output the first row in reverse\n",
        "print(my_arr[0, ::-1]) # [5 4 3 2 1]"
      ],
      "execution_count": null,
      "outputs": []
    },
    {
      "cell_type": "code",
      "metadata": {
        "id": "-xvzjisGc_e9",
        "colab_type": "code",
        "colab": {}
      },
      "source": [
        "# Boolean\n",
        "# Check if the values inside the array is greater than 5\n",
        "\n",
        "val = my_arr > 5\n",
        "print(val)\n",
        "''' Output\n",
        "[[False False False False False]\n",
        " [ True  True  True  True  True]\n",
        " [ True  True  True  True  True]\n",
        " [ True  True  True  True  True]]\n",
        "'''\n",
        "\n",
        "# Print out the values which are returned True by the previous condition\n",
        "print(my_arr[val])  # [ 6  7  8  9 10 11 12 13 14 15 16 17 18 19 20]\n",
        "# It returns a 1D array\n",
        "\n",
        "# Print out the values which are returned previous condition\n",
        "# Retaining the original shape of the array\n",
        "# Replace True by 1 and False by 0\n",
        "print(np.where(my_arr>5, 1, 0)) # Using where\n",
        "''' \n",
        "[[0 0 0 0 0]\n",
        " [1 1 1 1 1]\n",
        " [1 1 1 1 1]\n",
        " [1 1 1 1 1]]\n",
        "'''\n",
        "\n",
        "# Print out the values which are returned by the previous condition\n",
        "# Retaining the original shape of the array\n",
        "# Print only the elements which are True and replace False by 0\n",
        "print(np.where(my_arr>5, my_arr, 0))\n",
        "'''\n",
        "[[ 0  0  0  0  0]\n",
        " [ 6  7  8  9 10]\n",
        " [11 12 13 14 15]\n",
        " [16 17 18 19 20]]\n",
        "'''\n",
        "\n",
        "# Print out the values which are returned by the previous condition\n",
        "# Retaining the original shape of the array\n",
        "# Print only the elements which are False and replace True by 1\n",
        "print(np.where(my_arr>5, 1, my_arr))\n",
        "'''\n",
        "[[1 2 3 4 5]\n",
        " [1 1 1 1 1]\n",
        " [1 1 1 1 1]\n",
        " [1 1 1 1 1]]\n",
        "'''"
      ],
      "execution_count": null,
      "outputs": []
    },
    {
      "cell_type": "code",
      "metadata": {
        "id": "WD7RbWu1R88T",
        "colab_type": "code",
        "colab": {}
      },
      "source": [
        "# logical and\n",
        "# To check the multiple condition in a array\n",
        "\n",
        "print(np.logical_and(my_arr>5, my_arr<15)) # Returns boolean value\n",
        "'''\n",
        "[[False False False False False]\n",
        " [ True  True  True  True  True]\n",
        " [ True  True  True  True False]\n",
        " [False False False False False]]\n",
        "'''\n",
        "\n"
      ],
      "execution_count": null,
      "outputs": []
    }
  ]
}