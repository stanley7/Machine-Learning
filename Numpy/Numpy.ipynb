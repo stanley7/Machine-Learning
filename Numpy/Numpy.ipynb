{
  "nbformat": 4,
  "nbformat_minor": 0,
  "metadata": {
    "colab": {
      "name": "Numpy_full.ipynb",
      "provenance": [],
      "collapsed_sections": [],
      "authorship_tag": "ABX9TyOo84BdSPqZVzm9UaUo0S9S",
      "include_colab_link": true
    },
    "kernelspec": {
      "name": "python3",
      "display_name": "Python 3"
    }
  },
  "cells": [
    {
      "cell_type": "markdown",
      "metadata": {
        "id": "view-in-github",
        "colab_type": "text"
      },
      "source": [
        "<a href=\"https://colab.research.google.com/github/stanley7/Machine-Learning/blob/master/Numpy/Numpy.ipynb\" target=\"_parent\"><img src=\"https://colab.research.google.com/assets/colab-badge.svg\" alt=\"Open In Colab\"/></a>"
      ]
    },
    {
      "cell_type": "code",
      "metadata": {
        "id": "AqZw5BmzD7pP",
        "colab_type": "code",
        "colab": {}
      },
      "source": [
        "# Numpy : Numeric Computing Library\n",
        "# Numpy is the core library for scientific computing in Python. It provides a high-performance multidimensional array object\n",
        "# Numpy array can have only one datatype inside an array"
      ],
      "execution_count": null,
      "outputs": []
    },
    {
      "cell_type": "code",
      "metadata": {
        "id": "LNZM9aEcwzcg",
        "colab_type": "code",
        "colab": {}
      },
      "source": [
        "# # Available Data types\n",
        "# int, float, bool, strings\n",
        "\n",
        "# np.int16 Integer (-32768 to 32767)\n",
        "# np.int32 Integer (-2147483648 to 2147483647)\n",
        "# np.int64 Integer (-9223372036854775808 to 9223372036854775807)\n",
        "\n",
        "# Numpy overflow\n",
        "import numpy as np\n",
        "num_a = np.array([32765, 32766, 32767, 32768], dtype=np.int16)\n",
        "print(num_a) # Output [ 32765  32766  32767 -32768]\n",
        "# 32768 gets changes to -32768 because we have overflowed the datatype\n",
        "\n",
        "# unsigned datatypes\n",
        "# unsigned datatpes takes only positive values\n",
        "# np.uint16 Unsigned integer (0 to 65535)\n",
        "# np.uint32 Unsigned integer (0 to 4294967295)\n",
        "# np.uint64 Unsigned integer (0 to 18446744073709551615)\n",
        "\n",
        "# Example: If we give a negetive value we will get an unexpected output\n",
        "num_b = np.array([-1,0,1], dtype=np.uint16)\n",
        "print(num_b) # OP [65535     0     1]\n",
        "# -1 gets changed to 65535\n",
        "\n",
        "a = np.array([1,1.1,True, 'Hello'])\n",
        "# Since Numpy array can have only one datatype, it automatically converts every element to String"
      ],
      "execution_count": null,
      "outputs": []
    },
    {
      "cell_type": "code",
      "metadata": {
        "id": "WWLbAq4PwzXg",
        "colab_type": "code",
        "colab": {}
      },
      "source": [
        "# Difference between List and Numpy\n",
        "\n",
        "# List consumes more memory compared to Numpy \n",
        "# Operations in List are slower compared to Numpy\n",
        "# We can enhance the performance of the list using Numpy array\n",
        "# List can contain multiple datatypes but Numpy array can have only one datatype"
      ],
      "execution_count": null,
      "outputs": []
    },
    {
      "cell_type": "code",
      "metadata": {
        "id": "xZ_EunyZwvwV",
        "colab_type": "code",
        "colab": {}
      },
      "source": [
        "# Numpy array Shape\n",
        "\n",
        "# Gives a tuple that specifies the number of rows and columns\n",
        "a = np.array([1,1.1,True, 'Hello'])\n",
        "print(a.shape) # (1,4) \n",
        "\n",
        "# Numpy array of shape (5,2)\n",
        "b = np.array([[1,2], [3,4], [5,6],[7,8], [9,10]])\n",
        "print(b.shape) # (5,2)"
      ],
      "execution_count": null,
      "outputs": []
    },
    {
      "cell_type": "code",
      "metadata": {
        "id": "mPXEfrhH8NQ8",
        "colab_type": "code",
        "colab": {}
      },
      "source": [
        "# Get check the data type\n",
        "\n",
        "num_a = np.array([1,2,3,4.4,True,'Hello'])\n",
        "print(num_a.dtype)\n",
        "\n",
        "# Get the size of an array\n",
        "print(num_a.size) # 6 \n",
        "print(len(num_a)) # 6"
      ],
      "execution_count": null,
      "outputs": []
    },
    {
      "cell_type": "code",
      "metadata": {
        "id": "JIajV4lKVsG_",
        "colab_type": "code",
        "colab": {}
      },
      "source": [
        "# To get the dimension of an array ndim\n",
        "\n",
        "a = np.array([1,1.1,True, 'Hello'])\n",
        "print(a.ndim) # 1D\n",
        "\n",
        "a = [1,2,3,4,5]\n",
        "b = [6,7,8,9,10]\n",
        "c = [11,12,13,14,15]\n",
        "d = [16,17,18,19,20]\n",
        "my_arr = np.array([a,b,c,d])\n",
        "print(my_arr.ndim) # 2D\n",
        "\n",
        "arr_3d = np.array([[[ 1, 2, 3], [4, 5, 6]], [[7, 8, 9], [10, 11, 12]]])\n",
        "print(arr_3d.ndim) # 3D"
      ],
      "execution_count": null,
      "outputs": []
    },
    {
      "cell_type": "code",
      "metadata": {
        "id": "jZv4wL1jDJi9",
        "colab_type": "code",
        "colab": {}
      },
      "source": [
        "# Numpy default values\n",
        "\n",
        "# Overriding the default datatypes\n",
        "# To change the datatype of the elements inside an array\n",
        "a = [[1,2,3], [4,5,6]]\n",
        "arr = np.array(a, dtype=float)\n",
        "# Converts all the elements inside an array to float\n",
        "\n",
        "# Numpy Zeros, Ones and Full methods\n",
        "print(np.zeros((3,3)))\n",
        "print(np.ones((3,3))) \n",
        "print(np.full((3,3), 5)) # Gives a 3x3 matrix which consits of only element 5\n",
        "print(np.random.random((3,3))) # Gives a 3x3 matrix of random numbers between 0 and 1"
      ],
      "execution_count": null,
      "outputs": []
    },
    {
      "cell_type": "code",
      "metadata": {
        "id": "C8mOCGVpqPVl",
        "colab_type": "code",
        "colab": {}
      },
      "source": [
        "# Indexing\n",
        "\n",
        "a = [1,2,3,4,5]\n",
        "b = [6,7,8,9,10]\n",
        "c = [11,12,13,14,15]\n",
        "d = [16,17,18,19,20]\n",
        "my_arr = np.array([a,b,c,d])\n",
        "\n",
        "# Output third and fourth elements of all rows\n",
        "print(my_arr[:, 2:4])\n",
        "\n",
        "# Output third and fifth element of all rows\n",
        "print(my_arr[:, 2::2])\n",
        "\n",
        "# Output the last row\n",
        "print(my_arr[-1])  # [16 17 18 19 20]\n",
        " \n",
        "# Out the last element of last row\n",
        "print(my_arr[-1, -1]) # 20\n",
        "\n",
        "# Output the third row thrid element\n",
        "print(my_arr[2,2]) # 13\n",
        "\n",
        "# Output last 2 rows\n",
        "print(my_arr[-2:])\n",
        "\n",
        "# Output the first row in reverse\n",
        "print(my_arr[0, ::-1]) # [5 4 3 2 1]"
      ],
      "execution_count": null,
      "outputs": []
    },
    {
      "cell_type": "code",
      "metadata": {
        "id": "v5z5G390-_cy",
        "colab_type": "code",
        "colab": {}
      },
      "source": [
        "# Update, Append, Insert and Delete operations\n",
        "\n",
        "a = [1,2,3,4,5]\n",
        "b = [6,7,8,9,10]\n",
        "c = [11,12,13,14,15]\n",
        "d = [16,17,18,19,20]\n",
        "my_arr = np.array([a,b,c,d])\n",
        "\n",
        "# Update\n",
        "my_arr[0,4] = 50\n",
        "\n",
        "# Append\n",
        "\n",
        "# Append operation in a 1D Array\n",
        "a = np.array([1,2,3,4,5])\n",
        "np.append(a, 6) # array([1, 2, 3, 4, 5, 6])\n",
        "print(a) # It will return the original array [1,2,3,4,5] bcs the values were not stored\n",
        "a = np.append(a , 6)\n",
        "print(a) # [1,2,3,4,5,6]\n",
        "\n",
        "# To append more than 1 element in a 1D array\n",
        "np.append(a, [7,8]) # array([1, 2, 3, 4, 5, 7, 8])\n",
        "print(a) # [1,2,3,4,5,6]\n",
        "a = np.append(a, [7,8]) # Now the values get appended to the original array\n",
        "print(a) # [1,2,3,4,5,6,7,8]\n",
        "\n",
        "#Append operation in a 2D Array\n",
        "\n",
        "two_d = np.array([[1,2,3], [4,5,6]])\n",
        "np.append(two_d, [7,8,9]) # array([1, 2, 3, 4, 5, 6, 7, 8, 9])\n",
        "# Gives a 1D array\n",
        "\n",
        "# To append the new values as the last row of the array\n",
        "np.append(two_d, [[7,8,9]], axis=0)\n",
        "#array([[1, 2, 3],\n",
        "#       [4, 5, 6],\n",
        "#       [7, 8, 9]])\n",
        "\n",
        "# To append the new values as the last column of the array\n",
        "np.append(two_d, [[7],[8]], axis=1)\n",
        "# array([[1, 2, 3, 7],\n",
        "#       [4, 5, 6, 8]])\n",
        "\n",
        "\n",
        "# Insert\n",
        "# Syntax: np.insert(array_name, pos, val)\n",
        "\n",
        "# Insert a value in a 1D array\n",
        "one_d = np.array([1,2,3,4,5])\n",
        "np.insert(one_d, 5, 6) # array([1, 2, 3, 4, 5, 6])\n",
        "\n",
        "# Insert a value in a 2D array\n",
        "np.insert(two_d, 6, 7) # array([1, 2, 3, 4, 5, 6, 7])\n",
        "# Gives a 1D array\n",
        "\n",
        "# Insert a new column in a 2D array\n",
        "np.insert(two_d, 2,100, axis=1) \n",
        "# array([[  1,   2, 100,   3],\n",
        "#       [  4,   5, 100,   6]])\n",
        "\n",
        "np.insert(two_d, 2, [100, 101], axis=1)\n",
        "#array([[  1,   2, 100,   3],\n",
        "#       [  4,   5, 101,   6]])\n",
        "\n",
        "# Insert a new row in a 2D array\n",
        "np.insert(two_d, 2, 100, axis=0)\n",
        "#array([[  1,   2,   3],\n",
        "#       [  4,   5,   6],\n",
        "#       [100, 100, 100]])\n",
        "\n",
        "np.insert(two_d, 2 , [[100,101,102]], axis = 0)\n",
        "#array([[  1,   2,   3],\n",
        "#       [  4,   5,   6],\n",
        "#       [100, 101, 102]])\n",
        "\n",
        "# Delete \n",
        "\n",
        "# To delete an element in a 1D array\n",
        "np.delete(one_d, 0) # array([2, 3, 4, 5])\n",
        "\n"
      ],
      "execution_count": null,
      "outputs": []
    },
    {
      "cell_type": "code",
      "metadata": {
        "id": "-xvzjisGc_e9",
        "colab_type": "code",
        "colab": {
          "base_uri": "https://localhost:8080/",
          "height": 324
        },
        "outputId": "1c9901a0-bfe7-471e-8404-c022122c46ff"
      },
      "source": [
        "\n",
        "# Boolean\n",
        "# Check if the values inside the array is greater than 5\n",
        "\n",
        "val = my_arr > 5\n",
        "print(val)\n",
        "''' Output\n",
        "[[False False False False False]\n",
        " [ True  True  True  True  True]\n",
        " [ True  True  True  True  True]\n",
        " [ True  True  True  True  True]]\n",
        "'''\n",
        "\n",
        "# Print out the values which are returned True by the previous condition\n",
        "print(my_arr[val])  # [ 6  7  8  9 10 11 12 13 14 15 16 17 18 19 20]\n",
        "# It returns a 1D array\n",
        "\n",
        "# Print out the values which are returned previous condition\n",
        "# Retaining the original shape of the array\n",
        "# Replace True by 1 and False by 0\n",
        "print(np.where(my_arr>5, 1, 0)) # Using where\n",
        "''' \n",
        "[[0 0 0 0 0]\n",
        " [1 1 1 1 1]\n",
        " [1 1 1 1 1]\n",
        " [1 1 1 1 1]]\n",
        "'''\n",
        "\n",
        "# Print out the values which are returned by the previous condition\n",
        "# Retaining the original shape of the array\n",
        "# Print only the elements which are True and replace False by 0\n",
        "print(np.where(my_arr>5, my_arr, 0))\n",
        "'''\n",
        "[[ 0  0  0  0  0]\n",
        " [ 6  7  8  9 10]\n",
        " [11 12 13 14 15]\n",
        " [16 17 18 19 20]]\n",
        "'''\n",
        "\n",
        "# Print out the values which are returned by the previous condition\n",
        "# Retaining the original shape of the array\n",
        "# Print only the elements which are False and replace True by 1\n",
        "print(np.where(my_arr>5, 1, my_arr))\n",
        "'''\n",
        "[[1 2 3 4 5]\n",
        " [1 1 1 1 1]\n",
        " [1 1 1 1 1]\n",
        " [1 1 1 1 1]]\n",
        "'''"
      ],
      "execution_count": 73,
      "outputs": [
        {
          "output_type": "stream",
          "text": [
            "[[False False False False  True]\n",
            " [ True  True  True  True  True]\n",
            " [ True  True  True  True  True]\n",
            " [ True  True  True  True  True]]\n",
            "[50  6  7  8  9 10 11 12 13 14 15 16 17 18 19 20]\n",
            "[[0 0 0 0 1]\n",
            " [1 1 1 1 1]\n",
            " [1 1 1 1 1]\n",
            " [1 1 1 1 1]]\n",
            "[[ 0  0  0  0 50]\n",
            " [ 6  7  8  9 10]\n",
            " [11 12 13 14 15]\n",
            " [16 17 18 19 20]]\n",
            "[[1 2 3 4 1]\n",
            " [1 1 1 1 1]\n",
            " [1 1 1 1 1]\n",
            " [1 1 1 1 1]]\n"
          ],
          "name": "stdout"
        },
        {
          "output_type": "execute_result",
          "data": {
            "application/vnd.google.colaboratory.intrinsic": {
              "type": "string"
            },
            "text/plain": [
              "'\\n[[1 2 3 4 5]\\n [1 1 1 1 1]\\n [1 1 1 1 1]\\n [1 1 1 1 1]]\\n'"
            ]
          },
          "metadata": {
            "tags": []
          },
          "execution_count": 73
        }
      ]
    },
    {
      "cell_type": "code",
      "metadata": {
        "id": "WD7RbWu1R88T",
        "colab_type": "code",
        "colab": {}
      },
      "source": [
        "# logical and\n",
        "# To check the multiple condition in a array\n",
        "\n",
        "print(np.logical_and(my_arr>5, my_arr<15)) # Returns boolean value\n",
        "'''\n",
        "[[False False False False False]\n",
        " [ True  True  True  True  True]\n",
        " [ True  True  True  True False]\n",
        " [False False False False False]]\n",
        "'''"
      ],
      "execution_count": null,
      "outputs": []
    },
    {
      "cell_type": "code",
      "metadata": {
        "id": "EZUjwvE4_htL",
        "colab_type": "code",
        "colab": {}
      },
      "source": [
        ""
      ],
      "execution_count": null,
      "outputs": []
    }
  ]
}